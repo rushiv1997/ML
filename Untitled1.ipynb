
  },
  {
   "cell_type": "markdown",
   "id": "9efaefad",
   "metadata": {},
   "source": [
    "and    &\n",
    "or     |\n",
    "Xor    ^\n",
    "\n",
    "A    B     A&B    A|B  A^B\n",
    "\n",
    "1    1     1       1    0\n",
    "1    0     0       1    1 \n",
    "0    1     0       1    1\n",
    "0    0     0       0    0"
   ]
  },
  {
   "cell_type": "code",
   "execution_count": 4,
   "id": "a7e6cd03",
   "metadata": {},
   "outputs": [],
   "source": [
    "x=1"
   ]
  },
  {
   "cell_type": "code",
   "execution_count": 8,
   "id": "58fb2dd6",
   "metadata": {},
   "outputs": [],
   "source": [
    "y=60"
   ]
  },
  {
   "cell_type": "code",
   "execution_count": null,
   "id": "df300ef9",
   "metadata": {},
   "outputs": [],
   "source": []
  },
  {
   "cell_type": "code",
   "execution_count": null,
   "id": "e653a59d",
   "metadata": {},
   "outputs": [],
   "source": []
  },
  {
   "cell_type": "code",
   "execution_count": null,
   "id": "f84629a3",
   "metadata": {},
   "outputs": [],
   "source": []
  }
 ],
 "metadata": {
  "kernelspec": {
   "display_name": "Python 3 (ipykernel)",
   "language": "python",
   "name": "python3"
  },
  "language_info": {
   "codemirror_mode": {
    "name": "ipython",
    "version": 3
   },
   "file_extension": ".py",
   "mimetype": "text/x-python",
   "name": "python",
   "nbconvert_exporter": "python",
   "pygments_lexer": "ipython3",
   "version": "3.9.12"
  }
 },
 "nbformat": 4,
 "nbformat_minor": 5
}
