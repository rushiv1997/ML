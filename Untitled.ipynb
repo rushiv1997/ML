{
 "cells": [
  {
   "cell_type": "code",
   "execution_count": 14,
   "id": "9ea63676",
   "metadata": {},
   "outputs": [],
   "source": []
  },
  {
   "cell_type": "markdown",
   "id": "8b40d982",
   "metadata": {},
   "source": [
    "# Types of operators use in python\n",
    "\n",
    "1 Arithmatic\n",
    "2 assigment \n",
    "3 comparition \n",
    "4 logical \n",
    "5 membership \n",
    "6 indentity operator\n",
    "7 Bitwise operation \n"
   ]
  },
  {
   "cell_type": "markdown",
   "id": "44204a3d",
   "metadata": {},
   "source": []
  },
  {
   "cell_type": "code",
   "execution_count": 13,
   "id": "f3bccd73",
   "metadata": {},
   "outputs": [],
   "source": [
    "#arithmatic\n",
    "# +,-,*,/,I"
   ]
  },
  {
   "cell_type": "code",
   "execution_count": 26,
   "id": "78d52c47",
   "metadata": {},
   "outputs": [],
   "source": [
    "x=5\n"
   ]
  },
  {
   "cell_type": "code",
   "execution_count": 25,
   "id": "6b08a9b6",
   "metadata": {},
   "outputs": [],
   "source": [
    "y=2"
   ]
  },
  {
   "cell_type": "code",
   "execution_count": 16,
   "id": "d24a7eb5",
   "metadata": {},
   "outputs": [
    {
     "data": {
      "text/plain": [
       "80"
      ]
     },
     "execution_count": 16,
     "metadata": {},
     "output_type": "execute_result"
    }
   ],
   "source": [
    "x+y"
   ]
  },
  {
   "cell_type": "code",
   "execution_count": 17,
   "id": "45bf104f",
   "metadata": {},
   "outputs": [
    {
     "data": {
      "text/plain": [
       "-40"
      ]
     },
     "execution_count": 17,
     "metadata": {},
     "output_type": "execute_result"
    }
   ],
   "source": [
    "x-y"
   ]
  },
 
     },
     "execution_count": 18,
     "metadata": {},
     "output_type": "execute_result"
    }
   ],
   "source": [
    "x*y"
   ]
  },
  {
   "cell_type": "code",
   "execution_count": 19,
   "id": "f6487c05",
   "metadata": {},
   "outputs": [
    {
     "data": {
      "text/plain": [
       "0.3333333333333333"
      ]
     },
     "execution_count": 19,
     "metadata": {},
     "output_type": "execute_result"
    }
   ],
   "source": [
    "x/y"
   ]
  },
  {
   "cell_type": "code",
   "execution_count": 29,
   "id": "8021a327",
   "metadata": {},
   "outputs": [
    {
     "data": {
      "text/plain": [
       "2"
      ]
     },
     "execution_count": 29,
     "metadata": {},
     "output_type": "execute_result"
    }
   ],
   "source": [
    "x//y"
   ]
  },
  {
   "cell_type": "code",
   "execution_count": 28,
   "id": "5c62fdcd",
   "metadata": {},
   "outputs": [
    {
     "data": {
      "text/plain": [
       "2.5"
      ]
     },
     "execution_count": 28,
     "metadata": {},
     "output_type": "execute_result"
    }
   ],
   "source": [
    "x/y"
   ]
  },
  {
   "cell_type": "code",
   "execution_count": 32,
   "id": "2cbb22e9",
   "metadata": {},
   "outputs": [
    {
     "data": {
      "text/plain": [
       "1"
      ]
     },
     "execution_count": 32,
     "metadata": {},
     "output_type": "execute_result"
    }
   ],
   "source": [
    "x%y"
   ]
  },
  {
   "cell_type": "code",
   "execution_count": 31,
   "id": "4eb7fdae",
   "metadata": {},
   "outputs": [],
   "source": [
    "z=2.01"
   ]
  },
  {
   "cell_type": "code",
   "execution_count": 34,
   "id": "c88c313e",
   "metadata": {},
   "outputs": [
    {
     "data": {
      "text/plain": [
       "625"
      ]
     },
     "execution_count": 34,
     "metadata": {},
     "output_type": "execute_result"
    }
   ],
   "source": [
    "x**4   # x power to 3"
   ]
  },
  {
   "cell_type": "code",
   "execution_count": 35,
   "id": "1d778f8c",
   "metadata": {},
   "outputs": [],
   "source": [
    "# Assigmet\n",
    "# =,+=,-=,*=....."
   ]
  },
  {
   "cell_type": "code",
   "execution_count": 36,
   "id": "158a304b",
   "metadata": {},
   "outputs": [],
   "source": [
    "x=5"
   ]
  },
  {
   "cell_type": "code",
   "execution_count": 37,
   "id": "ee67f885",
   "metadata": {},
   "outputs": [],
   "source": [
    "y=2"
   ]
  },
  {
   "cell_type": "code",
   "execution_count": 38,
   "id": "03cbd926",
   "metadata": {},
   "outputs": [],
   "source": [
    "x+=8   #x=x+8"
   ]
  },
  {
   "cell_type": "code",
   "execution_count": 39,
   "id": "163c85b9",
   "metadata": {},
   "outputs": [
    {
     "data": {
      "text/plain": [
       "13"
      ]
     },
     "execution_count": 39,
     "metadata": {},
     "output_type": "execute_result"
    }
   ],
   "source": [
    "x"
   ]
  },
  {
   "cell_type": "code",
   "execution_count": 40,
   "id": "f0839dfd",
   "metadata": {},
   "outputs": [],
   "source": [
    "x-=2  #x=x-2"
   ]
  },
  {
   "cell_type": "code",
   "execution_count": 41,
   "id": "487666f7",
   "metadata": {},
   "outputs": [
    {
     "data": {
      "text/plain": [
       "11"
      ]
     },
     "execution_count": 41,
     "metadata": {},
     "output_type": "execute_result"
    }
   ],
   "source": [
    "x"
   ]
  },
  {
   "cell_type": "code",
   "execution_count": 42,
   "id": "a28b391b",
   "metadata": {},
   "outputs": [],
   "source": [
    "x/=2"
   ]
  },
  {
   "cell_type": "code",
   "execution_count": 43,
   "id": "2887ecd8",
   "metadata": {},
   "outputs": [
    {
     "data": {
      "text/plain": [
       "5.5"
      ]
     },
     "execution_count": 43,
     "metadata": {},
     "output_type": "execute_result"
    }
   ],
   "source": [
    "x"
   ]
  },
  {
   "cell_type": "code",
   "execution_count": 44,
   "id": "08ed5a0c",
   "metadata": {},
   "outputs": [],
   "source": [
    "#comparison"
   ]
  },
  {
   "cell_type": "code",
   "execution_count": 45,
   "id": "878af01c",
   "metadata": {},
   "outputs": [],
   "source": [
    "# ==,>=,<=,>,<,!="
   ]
  },
  {
   "cell_type": "code",
   "execution_count": 54,
   "id": "8b16a11f",
   "metadata": {},
   "outputs": [],
   "source": [
    "x=8"
   ]
  },
  {
   "cell_type": "code",
   "execution_count": 52,
   "id": "7df7ce73",
   "metadata": {},
   "outputs": [],
   "source": [
    "y=9"
   ]
  },
  {
   "cell_type": "code",
   "execution_count": 48,
   "id": "263b5df9",
   "metadata": {},
   "outputs": [
    {
     "data": {
      "text/plain": [
       "False"
      ]
     },
     "execution_count": 48,
     "metadata": {},
     "output_type": "execute_result"
    }
   ],
   "source": [
    "x==y"
   ]
  },
  {
   "cell_type": "code",
   "execution_count": 49,
   "id": "2b685a56",
   "metadata": {},
   "outputs": [
    {
     "data": {
      "text/plain": [
       "True"
      ]
     },
     "execution_count": 49,
     "metadata": {},
     "output_type": "execute_result"
    }
   ],
   "source": [
    "x!=y"
   ]
  },
  {
   "cell_type": "code",
   "execution_count": 50,
   "id": "b730feac",
   "metadata": {},
   "outputs": [
    {
     "data": {
      "text/plain": [
       "True"
      ]
     },
     "execution_count": 50,
     "metadata": {},
     "output_type": "execute_result"
    }
   ],
   "source": [
    "x>y"
   ]
  },
  {
   "cell_type": "code",
   "execution_count": 51,
   "id": "e88b5b18",
   "metadata": {},
   "outputs": [
    {
     "data": {
      "text/plain": [
       "False"
      ]
     },
     "execution_count": 51,
     "metadata": {},
     "output_type": "execute_result"
    }
   ],
   "source": [
    "x<y"
   ]
  },
  {
   "cell_type": "code",
   "execution_count": 56,
   "id": "4f7a9e31",
   "metadata": {},
   "outputs": [
    {
     "data": {
      "text/plain": [
       "True"
      ]
     },
     "execution_count": 56,
     "metadata": {},
     "output_type": "execute_result"
    }
   ],
   "source": [
    "x<=y"
   ]
  },
  {
   "cell_type": "code",
   "execution_count": 57,
   "id": "9a7595b6",
   "metadata": {},
   "outputs": [],
   "source": [
    "#locial "
   ]
  },
  {
   "cell_type": "code",
   "execution_count": 58,
   "id": "a3859819",
   "metadata": {},
   "outputs": [],
   "source": [
    "# and,or, not"
   ]
  },
  {
   "cell_type": "code",
   "execution_count": 59,
   "id": "d29cfcfb",
   "metadata": {},
   "outputs": [],
   "source": [
    "x=90"
   ]
  },
  {
   "cell_type": "code",
   "execution_count": 60,
   "id": "6f08bd9c",
   "metadata": {},
   "outputs": [],
   "source": [
    "y=55"
   ]
  },
  {
   "cell_type": "code",
   "execution_count": 65,
   "id": "cfe34ff6",
   "metadata": {},
   "outputs": [
    {
     "data": {
      "text/plain": [
       "False"
      ]
     },
     "execution_count": 65,
     "metadata": {},
     "output_type": "execute_result"
    }
   ],
   "source": [
    "not(x>8 or y>20)"
   ]
  },
  {
   "cell_type": "code",
   "execution_count": 66,
   "id": "b156507f",
   "metadata": {},
   "outputs": [],
   "source": [
    "# membership "
   ]
  },
  {
   "cell_type": "code",
   "execution_count": 67,
   "id": "c4e3c4d9",
   "metadata": {},
   "outputs": [],
   "source": [
    "#  in, not in"
   ]
  },
  {
   "cell_type": "code",
   "execution_count": 68,
   "id": "f4f5ea83",
   "metadata": {},
   "outputs": [],
   "source": [
    "x='hello'"
   ]
  },
  {
   "cell_type": "code",
   "execution_count": 72,
   "id": "3f7d9d32",
   "metadata": {},
   "outputs": [
    {
     "data": {
      "text/plain": [
       "False"
      ]
     },
     "execution_count": 72,
     "metadata": {},
     "output_type": "execute_result"
    }
   ],
   "source": [
    "'o'not in x"
   ]
  },
  {
   "cell_type": "code",
   "execution_count": 73,
   "id": "d6597a6f",
   "metadata": {},
   "outputs": [],
   "source": [
    "# Identity"
   ]
  },
  {
   "cell_type": "code",
   "execution_count": 74,
   "id": "272cf252",
   "metadata": {},
   "outputs": [],
   "source": [
    "# is ,is not"
   ]
  },
  {
   "cell_type": "code",
   "execution_count": 75,
   "id": "f0bdaba8",
   "metadata": {},
   "outputs": [],
   "source": [
    "x=65"
   ]
  },
  {
   "cell_type": "code",
   "execution_count": 79,
   "id": "ace8b042",
   "metadata": {},
   "outputs": [],
   "source": [
    "y=65"
   ]
  },
  {
   "cell_type": "code",
   "execution_count": 80,
   "id": "8ddeb69a",
   "metadata": {},
   "outputs": [
    {
     "data": {
      "text/plain": [
       "False"
      ]
     },
     "execution_count": 80,
     "metadata": {},
     "output_type": "execute_result"
    }
   ],
   "source": [
    "x is not y  #x!=y"
   ]
  },
  {
   "cell_type": "markdown",
   "id": "0528f1a8",
   "metadata": {},
   "source": [
    "Bitwise Operators\n",
    "  \n",
    "  and    &\n",
    "or     |\n",
    "Xor    ^\n",
    "\n",
    "A    B     A&B    A|B  A^B\n",
    "\n",
    "1    1     1       1    0\n",
    "1    0     0       1    1 \n",
    "0    1     0       1    1\n",
    "0    0     0       0    0"
   ]
  }
 ],
 "metadata": {
  "kernelspec": {
   "display_name": "Python 3 (ipykernel)",
   "language": "python",
   "name": "python3"
  },
  "language_info": {
   "codemirror_mode": {
    "name": "ipython",
    "version": 3
   },
   "file_extension": ".py",
   "mimetype": "text/x-python",
   "name": "python",
   "nbconvert_exporter": "python",
   "pygments_lexer": "ipython3",
   "version": "3.9.12"
  }
 },
 "nbformat": 4,
 "nbformat_minor": 5
}
